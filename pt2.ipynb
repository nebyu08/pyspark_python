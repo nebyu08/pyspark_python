{
 "cells": [
  {
   "cell_type": "code",
   "execution_count": 5,
   "id": "bb98c4d3-5314-4f8c-b8c5-4daa08c890a4",
   "metadata": {},
   "outputs": [],
   "source": [
    "from pyspark.sql import SparkSession"
   ]
  },
  {
   "cell_type": "code",
   "execution_count": 6,
   "id": "3cf98165-b803-4aeb-975d-d9a35ba6c01f",
   "metadata": {},
   "outputs": [],
   "source": [
    "spark=SparkSession.builder.appName(\"dataframe\").getOrCreate()"
   ]
  },
  {
   "cell_type": "code",
   "execution_count": 7,
   "id": "d3e8e71a-a2ea-4ad9-81f9-fd901603930d",
   "metadata": {},
   "outputs": [],
   "source": [
    "data=spark.read.csv(\"C:/Users/dread-miles/Documents/test2.csv\",header=True,inferSchema=True)"
   ]
  },
  {
   "cell_type": "code",
   "execution_count": 8,
   "id": "6bf93537-6cff-4888-9573-7b933ae9e432",
   "metadata": {},
   "outputs": [
    {
     "name": "stdout",
     "output_type": "stream",
     "text": [
      "+---------+---+----------+------+\n",
      "|     Name|age|Experience|Salary|\n",
      "+---------+---+----------+------+\n",
      "|    Krish| 31|        10| 30000|\n",
      "|Sudhanshu| 30|         8| 25000|\n",
      "|    Sunny| 29|         4| 20000|\n",
      "|     Paul| 24|         3| 20000|\n",
      "|   Harsha| 21|         1| 15000|\n",
      "+---------+---+----------+------+\n",
      "only showing top 5 rows\n",
      "\n"
     ]
    }
   ],
   "source": [
    "data.show(5)"
   ]
  },
  {
   "cell_type": "markdown",
   "id": "d2ad8ca6-e293-405d-b36b-4288d1ed6681",
   "metadata": {},
   "source": [
    "# lets perform filter operation"
   ]
  },
  {
   "cell_type": "code",
   "execution_count": 15,
   "id": "050ca5e2-9ba2-4d41-86fd-201c08ae2286",
   "metadata": {},
   "outputs": [
    {
     "name": "stdout",
     "output_type": "stream",
     "text": [
      "+-------+---+----------+------+\n",
      "|   Name|age|Experience|Salary|\n",
      "+-------+---+----------+------+\n",
      "| Harsha| 21|         1| 15000|\n",
      "|Shubham| 23|         2| 18000|\n",
      "+-------+---+----------+------+\n",
      "\n"
     ]
    }
   ],
   "source": [
    "data.filter(\"Salary<20000\").show()"
   ]
  },
  {
   "cell_type": "code",
   "execution_count": 18,
   "id": "ddf23f7e-4ff7-453c-ac6f-539a16e90eda",
   "metadata": {},
   "outputs": [
    {
     "name": "stdout",
     "output_type": "stream",
     "text": [
      "+---------+----+\n",
      "|     Name| age|\n",
      "+---------+----+\n",
      "|    Krish|  31|\n",
      "|Sudhanshu|  30|\n",
      "|   Mahesh|null|\n",
      "|     null|  34|\n",
      "+---------+----+\n",
      "\n"
     ]
    }
   ],
   "source": [
    "data.filter(\"Salary>20000\").select([\"Name\",\"age\"]).show()"
   ]
  },
  {
   "cell_type": "code",
   "execution_count": 19,
   "id": "969f44a7-c44e-4f26-b77e-8952ad38378c",
   "metadata": {},
   "outputs": [
    {
     "name": "stdout",
     "output_type": "stream",
     "text": [
      "+---------+----+\n",
      "|     Name| age|\n",
      "+---------+----+\n",
      "|    Krish|  31|\n",
      "|Sudhanshu|  30|\n",
      "|   Mahesh|null|\n",
      "|     null|  34|\n",
      "+---------+----+\n",
      "\n"
     ]
    }
   ],
   "source": [
    "data.filter(data[\"Salary\"]>20000).select([\"Name\",\"age\"]).show()"
   ]
  },
  {
   "cell_type": "code",
   "execution_count": 20,
   "id": "099eb134-dbe4-4e53-bd1f-842a4f8451fc",
   "metadata": {},
   "outputs": [
    {
     "name": "stdout",
     "output_type": "stream",
     "text": [
      "+-----+---+----------+------+\n",
      "| Name|age|Experience|Salary|\n",
      "+-----+---+----------+------+\n",
      "|Krish| 31|        10| 30000|\n",
      "| null| 34|        10| 38000|\n",
      "+-----+---+----------+------+\n",
      "\n"
     ]
    }
   ],
   "source": [
    "data.filter((data[\"Salary\"]>20000) & (data[\"age\"]>30)).show()"
   ]
  },
  {
   "cell_type": "code",
   "execution_count": null,
   "id": "e51f4a82-1f45-4351-8d74-80001a12385f",
   "metadata": {},
   "outputs": [],
   "source": []
  }
 ],
 "metadata": {
  "kernelspec": {
   "display_name": "Python 3 (ipykernel)",
   "language": "python",
   "name": "python3"
  },
  "language_info": {
   "codemirror_mode": {
    "name": "ipython",
    "version": 3
   },
   "file_extension": ".py",
   "mimetype": "text/x-python",
   "name": "python",
   "nbconvert_exporter": "python",
   "pygments_lexer": "ipython3",
   "version": "3.9.18"
  }
 },
 "nbformat": 4,
 "nbformat_minor": 5
}
